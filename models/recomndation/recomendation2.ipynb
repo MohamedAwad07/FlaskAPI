{
 "cells": [
  {
   "cell_type": "code",
   "execution_count": 1,
   "id": "bcc709ce",
   "metadata": {},
   "outputs": [],
   "source": [
    "import pandas as pd\n",
    "from surprise import Dataset, Reader, SVD, KNNBasic\n",
    "from surprise.model_selection import train_test_split\n",
    "from sklearn.metrics.pairwise import cosine_similarity\n",
    "import joblib"
   ]
  },
  {
   "cell_type": "code",
   "execution_count": 2,
   "id": "104febbf",
   "metadata": {},
   "outputs": [],
   "source": [
    "path = r\"D:\\Online Retail.xlsx\""
   ]
  },
  {
   "cell_type": "code",
   "execution_count": 3,
   "id": "e60bb458",
   "metadata": {},
   "outputs": [],
   "source": [
    "df = pd.read_excel(path)"
   ]
  },
  {
   "cell_type": "code",
   "execution_count": 4,
   "id": "7b511b4f",
   "metadata": {},
   "outputs": [
    {
     "data": {
      "text/html": [
       "<div>\n",
       "<style scoped>\n",
       "    .dataframe tbody tr th:only-of-type {\n",
       "        vertical-align: middle;\n",
       "    }\n",
       "\n",
       "    .dataframe tbody tr th {\n",
       "        vertical-align: top;\n",
       "    }\n",
       "\n",
       "    .dataframe thead th {\n",
       "        text-align: right;\n",
       "    }\n",
       "</style>\n",
       "<table border=\"1\" class=\"dataframe\">\n",
       "  <thead>\n",
       "    <tr style=\"text-align: right;\">\n",
       "      <th></th>\n",
       "      <th>InvoiceNo</th>\n",
       "      <th>StockCode</th>\n",
       "      <th>Description</th>\n",
       "      <th>Quantity</th>\n",
       "      <th>InvoiceDate</th>\n",
       "      <th>UnitPrice</th>\n",
       "      <th>CustomerID</th>\n",
       "      <th>Country</th>\n",
       "    </tr>\n",
       "  </thead>\n",
       "  <tbody>\n",
       "    <tr>\n",
       "      <th>0</th>\n",
       "      <td>536365</td>\n",
       "      <td>85123A</td>\n",
       "      <td>WHITE HANGING HEART T-LIGHT HOLDER</td>\n",
       "      <td>6</td>\n",
       "      <td>2010-12-01 08:26:00</td>\n",
       "      <td>2.55</td>\n",
       "      <td>17850.0</td>\n",
       "      <td>United Kingdom</td>\n",
       "    </tr>\n",
       "    <tr>\n",
       "      <th>1</th>\n",
       "      <td>536365</td>\n",
       "      <td>71053</td>\n",
       "      <td>WHITE METAL LANTERN</td>\n",
       "      <td>6</td>\n",
       "      <td>2010-12-01 08:26:00</td>\n",
       "      <td>3.39</td>\n",
       "      <td>17850.0</td>\n",
       "      <td>United Kingdom</td>\n",
       "    </tr>\n",
       "    <tr>\n",
       "      <th>2</th>\n",
       "      <td>536365</td>\n",
       "      <td>84406B</td>\n",
       "      <td>CREAM CUPID HEARTS COAT HANGER</td>\n",
       "      <td>8</td>\n",
       "      <td>2010-12-01 08:26:00</td>\n",
       "      <td>2.75</td>\n",
       "      <td>17850.0</td>\n",
       "      <td>United Kingdom</td>\n",
       "    </tr>\n",
       "    <tr>\n",
       "      <th>3</th>\n",
       "      <td>536365</td>\n",
       "      <td>84029G</td>\n",
       "      <td>KNITTED UNION FLAG HOT WATER BOTTLE</td>\n",
       "      <td>6</td>\n",
       "      <td>2010-12-01 08:26:00</td>\n",
       "      <td>3.39</td>\n",
       "      <td>17850.0</td>\n",
       "      <td>United Kingdom</td>\n",
       "    </tr>\n",
       "    <tr>\n",
       "      <th>4</th>\n",
       "      <td>536365</td>\n",
       "      <td>84029E</td>\n",
       "      <td>RED WOOLLY HOTTIE WHITE HEART.</td>\n",
       "      <td>6</td>\n",
       "      <td>2010-12-01 08:26:00</td>\n",
       "      <td>3.39</td>\n",
       "      <td>17850.0</td>\n",
       "      <td>United Kingdom</td>\n",
       "    </tr>\n",
       "  </tbody>\n",
       "</table>\n",
       "</div>"
      ],
      "text/plain": [
       "  InvoiceNo StockCode                          Description  Quantity  \\\n",
       "0    536365    85123A   WHITE HANGING HEART T-LIGHT HOLDER         6   \n",
       "1    536365     71053                  WHITE METAL LANTERN         6   \n",
       "2    536365    84406B       CREAM CUPID HEARTS COAT HANGER         8   \n",
       "3    536365    84029G  KNITTED UNION FLAG HOT WATER BOTTLE         6   \n",
       "4    536365    84029E       RED WOOLLY HOTTIE WHITE HEART.         6   \n",
       "\n",
       "          InvoiceDate  UnitPrice  CustomerID         Country  \n",
       "0 2010-12-01 08:26:00       2.55     17850.0  United Kingdom  \n",
       "1 2010-12-01 08:26:00       3.39     17850.0  United Kingdom  \n",
       "2 2010-12-01 08:26:00       2.75     17850.0  United Kingdom  \n",
       "3 2010-12-01 08:26:00       3.39     17850.0  United Kingdom  \n",
       "4 2010-12-01 08:26:00       3.39     17850.0  United Kingdom  "
      ]
     },
     "execution_count": 4,
     "metadata": {},
     "output_type": "execute_result"
    }
   ],
   "source": [
    "df.head()"
   ]
  },
  {
   "cell_type": "code",
   "execution_count": 6,
   "id": "076959c9",
   "metadata": {},
   "outputs": [],
   "source": [
    "df['total_sales']=df['Quantity']*df['UnitPrice']"
   ]
  },
  {
   "cell_type": "code",
   "execution_count": 7,
   "id": "2201237c",
   "metadata": {},
   "outputs": [],
   "source": [
    "top_products = df.groupby('Description')['total_sales'].sum().sort_values(ascending=False).head(10)"
   ]
  },
  {
   "cell_type": "code",
   "execution_count": 8,
   "id": "be471503",
   "metadata": {},
   "outputs": [],
   "source": [
    "df_cf = df.groupby(['CustomerID', 'Description'])['Quantity'].sum().reset_index()\n",
    "reader = Reader(rating_scale=(1, df_cf['Quantity'].max()))\n",
    "data = Dataset.load_from_df(df_cf[['CustomerID', 'Description', 'Quantity']], reader)\n",
    "trainset, testset = train_test_split(data, test_size=0.2)"
   ]
  },
  {
   "cell_type": "code",
   "execution_count": 9,
   "id": "432077c5",
   "metadata": {},
   "outputs": [
    {
     "data": {
      "text/plain": [
       "<surprise.prediction_algorithms.matrix_factorization.SVD at 0x2aaeb4c4f80>"
      ]
     },
     "execution_count": 9,
     "metadata": {},
     "output_type": "execute_result"
    }
   ],
   "source": [
    "svd_model = SVD()\n",
    "svd_model.fit(trainset)"
   ]
  },
  {
   "cell_type": "code",
   "execution_count": 10,
   "id": "700ddda0",
   "metadata": {},
   "outputs": [
    {
     "data": {
      "text/plain": [
       "['popular_products.pkl']"
      ]
     },
     "execution_count": 10,
     "metadata": {},
     "output_type": "execute_result"
    }
   ],
   "source": [
    "joblib.dump(svd_model, 'svd_collaborative_model.pkl')\n",
    "joblib.dump(top_products, 'popular_products.pkl')"
   ]
  },
  {
   "cell_type": "code",
   "execution_count": 11,
   "id": "57e3ab0e",
   "metadata": {},
   "outputs": [],
   "source": [
    "def get_top_selling_products():\n",
    "    return top_products"
   ]
  },
  {
   "cell_type": "code",
   "execution_count": 12,
   "id": "90fcb1a1",
   "metadata": {},
   "outputs": [],
   "source": [
    "def get_personalized_recommendations(user_id):\n",
    "    all_items = df_cf['Description'].unique()\n",
    "    purchased = df_cf[df_cf['CustomerID'] == user_id]['Description'].tolist()\n",
    "    not_purchased = [item for item in all_items if item not in purchased]\n",
    "\n",
    "    predictions = [svd_model.predict(user_id, item) for item in not_purchased]\n",
    "    top_recs = sorted(predictions, key=lambda x: x.est, reverse=True)[:5] \n",
    "    return [pred.iid for pred in top_recs]"
   ]
  },
  {
   "cell_type": "code",
   "execution_count": 13,
   "id": "f152e3b9",
   "metadata": {},
   "outputs": [
    {
     "name": "stdout",
     "output_type": "stream",
     "text": [
      "Select Recommendation Type:\n",
      "1. Popular Products\n",
      "2. Personalized Recommendations\n",
      "\n",
      "Top Recommended Products for User 17850:\n",
      "• MEDIUM CERAMIC TOP STORAGE JAR\n",
      "• 3D DOG PICTURE PLAYING CARDS\n",
      "• 3D SHEET OF CAT STICKERS\n",
      "• 3D SHEET OF DOG STICKERS\n",
      "• 60 TEATIME FAIRY CAKE CASES\n"
     ]
    }
   ],
   "source": [
    "print(\"Select Recommendation Type:\")\n",
    "print(\"1. Popular Products\")\n",
    "print(\"2. Personalized Recommendations\")\n",
    "\n",
    "option = input(\"Enter 1 or 2: \")\n",
    "\n",
    "if option == \"1\":\n",
    "    print(\"\\nTop Selling Products:\")\n",
    "    for i, (product, sales) in enumerate(top_products.items(), 1):\n",
    "        print(f\"{i}. {product} (Total Sales: £{sales:.2f})\")\n",
    "\n",
    "elif option == \"2\":\n",
    "    user_id = input(\"Enter Customer ID: \")\n",
    "    user_id = int(user_id)\n",
    "    print(f\"\\nTop Recommended Products for User {user_id}:\")\n",
    "    personalized_recs = get_personalized_recommendations(user_id)\n",
    "    for i, product in enumerate(personalized_recs, 1):\n",
    "        print(f\"• {product}\")"
   ]
  },
  {
   "cell_type": "code",
   "execution_count": null,
   "id": "f8593110",
   "metadata": {},
   "outputs": [],
   "source": []
  }
 ],
 "metadata": {
  "kernelspec": {
   "display_name": "Python 3",
   "language": "python",
   "name": "python3"
  },
  "language_info": {
   "codemirror_mode": {
    "name": "ipython",
    "version": 3
   },
   "file_extension": ".py",
   "mimetype": "text/x-python",
   "name": "python",
   "nbconvert_exporter": "python",
   "pygments_lexer": "ipython3",
   "version": "3.12.10"
  }
 },
 "nbformat": 4,
 "nbformat_minor": 5
}
